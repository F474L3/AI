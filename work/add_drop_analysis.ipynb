{
 "cells": [
  {
   "cell_type": "markdown",
   "id": "725b2029-f18b-41bc-8cf2-399741a16ee8",
   "metadata": {},
   "source": [
    "print (\"I want to know when if the best time a spot ina  full class will open so I can be added to a waitlist. How can I use data to predict this?\")"
   ]
  },
  {
   "cell_type": "code",
   "execution_count": 1,
   "id": "de8126ac-7b1b-45eb-b75a-b1cbf6834d2f",
   "metadata": {},
   "outputs": [
    {
     "name": "stdout",
     "output_type": "stream",
     "text": [
      "I want to know when if the best time a spot ina  full class will open so I can be added to a waitlist. How can I use data to predict this?\n"
     ]
    }
   ],
   "source": [
    "print (\"I want to know when if the best time a spot ina  full class will open so I can be added to a waitlist. How can I use data to predict this?\")"
   ]
  },
  {
   "cell_type": "code",
   "execution_count": null,
   "id": "5cac8ee1-1a52-40d8-b32d-761aa073791a",
   "metadata": {},
   "outputs": [],
   "source": []
  }
 ],
 "metadata": {
  "kernelspec": {
   "display_name": "Python 3 (ipykernel)",
   "language": "python",
   "name": "python3"
  },
  "language_info": {
   "codemirror_mode": {
    "name": "ipython",
    "version": 3
   },
   "file_extension": ".py",
   "mimetype": "text/x-python",
   "name": "python",
   "nbconvert_exporter": "python",
   "pygments_lexer": "ipython3",
   "version": "3.11.8"
  }
 },
 "nbformat": 4,
 "nbformat_minor": 5
}
