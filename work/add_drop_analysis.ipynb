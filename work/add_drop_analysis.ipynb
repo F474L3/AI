{
 "cells": [
  {
   "cell_type": "code",
   "execution_count": 1,
   "id": "de8126ac-7b1b-45eb-b75a-b1cbf6834d2f",
   "metadata": {},
   "outputs": [
    {
     "name": "stdout",
     "output_type": "stream",
     "text": [
      "I want to know when if the best time a spot ina  full class will open so I can be added to a waitlist. How can I use data to predict this?\n"
     ]
    }
   ],
   "source": [
    "print (\"I want to know when if the best time a spot ina  full class will open so I can be added to a waitlist. How can I use data to predict this?\")"
   ]
  },
  {
   "cell_type": "code",
   "execution_count": 39,
   "id": "a91ff7b8-0165-4480-b04f-84cfd89f5417",
   "metadata": {},
   "outputs": [],
   "source": [
    "import json\n",
    "import pandas as pd"
   ]
  },
  {
   "cell_type": "code",
   "execution_count": 43,
   "id": "5cac8ee1-1a52-40d8-b32d-761aa073791a",
   "metadata": {},
   "outputs": [],
   "source": [
    "#retrieved data from inspect network https://ccsf.collegescheduler.com/terms/Summer%202024/courses/2274556\n",
    "obj = None\n",
    "with open(\"Sample_data/Intro_To_Linux_4_30.json\") as f:\n",
    "    obj = (json.loads(f.read()))\n",
    "mainsec = obj[\"currentSections\"][0]\n",
    "seatnum = mainsec[\"seatsFilled\"]\n",
    "seatcap = mainsec[\"seatsCapacity\"]\n",
    "waitopen = mainsec[\"waitlistOpen\"]\n",
    "waitlist = mainsec[\"waitlist\"]\n",
    "waitpos = mainsec[\"waitlistPosition\"]"
   ]
  },
  {
   "cell_type": "code",
   "execution_count": 38,
   "id": "3c59a3d6-73b7-4f90-83f0-2c9fff1cbe3d",
   "metadata": {},
   "outputs": [
    {
     "name": "stdout",
     "output_type": "stream",
     "text": [
      "Intro to Linux has a total of 35 seats.\n",
      "35 of the total seats are filled.\n",
      "There are currently 0 open seats in this class.\n",
      "There are 10 people in the waitlist.\n",
      "You are currently in position 7 in the waitlist.\n"
     ]
    }
   ],
   "source": [
    "print(f\"Intro to Linux has a total of {seatcap} seats.\")\n",
    "print(f\"{seatnum} of the total seats are filled.\")\n",
    "print(f\"There are currently {waitopen} open seats in this class.\")\n",
    "print (f\"There are {waitlist} people in the waitlist.\")\n",
    "print(f\"You are currently in position {waitpos} in the waitlist.\")"
   ]
  },
  {
   "cell_type": "code",
   "execution_count": 53,
   "id": "1cbc52c9-f91c-45e4-8db1-3abe72c5131e",
   "metadata": {},
   "outputs": [
    {
     "data": {
      "text/html": [
       "<div>\n",
       "<style scoped>\n",
       "    .dataframe tbody tr th:only-of-type {\n",
       "        vertical-align: middle;\n",
       "    }\n",
       "\n",
       "    .dataframe tbody tr th {\n",
       "        vertical-align: top;\n",
       "    }\n",
       "\n",
       "    .dataframe thead th {\n",
       "        text-align: right;\n",
       "    }\n",
       "</style>\n",
       "<table border=\"1\" class=\"dataframe\">\n",
       "  <thead>\n",
       "    <tr style=\"text-align: right;\">\n",
       "      <th></th>\n",
       "      <th>Total Seats</th>\n",
       "      <th>Seats Filled</th>\n",
       "      <th>Waitlist Sports Open</th>\n",
       "      <th>Number in Waitlist</th>\n",
       "      <th>Waitlist Position</th>\n",
       "    </tr>\n",
       "  </thead>\n",
       "  <tbody>\n",
       "    <tr>\n",
       "      <th>Intro To Linux</th>\n",
       "      <td>35</td>\n",
       "      <td>35</td>\n",
       "      <td>0</td>\n",
       "      <td>10</td>\n",
       "      <td>7</td>\n",
       "    </tr>\n",
       "  </tbody>\n",
       "</table>\n",
       "</div>"
      ],
      "text/plain": [
       "               Total Seats Seats Filled Waitlist Sports Open  \\\n",
       "Intro To Linux          35           35                    0   \n",
       "\n",
       "               Number in Waitlist  Waitlist Position  \n",
       "Intro To Linux                 10                  7  "
      ]
     },
     "execution_count": 53,
     "metadata": {},
     "output_type": "execute_result"
    }
   ],
   "source": [
    "df = pd.DataFrame(\n",
    "    {\"Total Seats\": [seatcap], \n",
    "    \"Seats Filled\": [seatnum], \"Waitlist Sports Open\": [waitopen],\"Number in Waitlist\":waitlist,\n",
    "\"Waitlist Position\": [waitpos]}, index = [\"Intro To Linux\"])\n",
    "df"
   ]
  },
  {
   "cell_type": "code",
   "execution_count": null,
   "id": "6b47ff68-ec77-49f2-8635-02409196b107",
   "metadata": {},
   "outputs": [],
   "source": []
  }
 ],
 "metadata": {
  "kernelspec": {
   "display_name": "Python 3 (ipykernel)",
   "language": "python",
   "name": "python3"
  },
  "language_info": {
   "codemirror_mode": {
    "name": "ipython",
    "version": 3
   },
   "file_extension": ".py",
   "mimetype": "text/x-python",
   "name": "python",
   "nbconvert_exporter": "python",
   "pygments_lexer": "ipython3",
   "version": "3.11.8"
  }
 },
 "nbformat": 4,
 "nbformat_minor": 5
}
