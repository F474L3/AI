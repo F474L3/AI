{
 "cells": [
  {
   "cell_type": "code",
   "execution_count": 1,
   "id": "de8126ac-7b1b-45eb-b75a-b1cbf6834d2f",
   "metadata": {},
   "outputs": [
    {
     "name": "stdout",
     "output_type": "stream",
     "text": [
      "I want to know when if the best time a spot ina  full class will open so I can be added to a waitlist. How can I use data to predict this?\n"
     ]
    }
   ],
   "source": [
    "print (\"I want to know when if the best time a spot ina  full class will open so I can be added to a waitlist. How can I use data to predict this?\")"
   ]
  },
  {
   "cell_type": "code",
   "execution_count": 6,
   "id": "a91ff7b8-0165-4480-b04f-84cfd89f5417",
   "metadata": {},
   "outputs": [],
   "source": [
    "import json"
   ]
  },
  {
   "cell_type": "code",
   "execution_count": 15,
   "id": "5cac8ee1-1a52-40d8-b32d-761aa073791a",
   "metadata": {},
   "outputs": [
    {
     "name": "stdout",
     "output_type": "stream",
     "text": [
      "0\n"
     ]
    }
   ],
   "source": [
    "#retrieved data from inspect network https://ccsf.collegescheduler.com/terms/Summer%202024/courses/2274556\n",
    "obj = None\n",
    "with open(\"Sample_data/Intro_To_Linux_4_30.json\") as f:\n",
    "    obj = (json.loads(f.read()))\n",
    "mainsec = obj[\"currentSections\"][0]\n",
    "waitstatus = mainsec[\"waitlistOpen\"]\n",
    "print (waitstatus)"
   ]
  },
  {
   "cell_type": "code",
   "execution_count": 19,
   "id": "3c59a3d6-73b7-4f90-83f0-2c9fff1cbe3d",
   "metadata": {},
   "outputs": [
    {
     "name": "stdout",
     "output_type": "stream",
     "text": [
      "10\n"
     ]
    }
   ],
   "source": [
    "print (f\"There are {[mainsec[\"waitlist\"]}people in the waitlist\")"
   ]
  },
  {
   "cell_type": "code",
   "execution_count": 20,
   "id": "17726721-a2b4-4f7d-8d8f-1f7c64736ff1",
   "metadata": {},
   "outputs": [
    {
     "name": "stdout",
     "output_type": "stream",
     "text": [
      "7\n"
     ]
    }
   ],
   "source": [
    "print (mainsec[\"waitlistPosition\"])"
   ]
  },
  {
   "cell_type": "code",
   "execution_count": 17,
   "id": "b3404f94-fc23-40a2-afe1-7a661de08dfd",
   "metadata": {},
   "outputs": [
    {
     "name": "stdout",
     "output_type": "stream",
     "text": [
      "35\n"
     ]
    }
   ],
   "source": [
    "seatfill = print (mainsec[\"seatsFilled\"])"
   ]
  },
  {
   "cell_type": "code",
   "execution_count": 18,
   "id": "641d5594-bbf2-4ae6-8e6e-ded976c09ea9",
   "metadata": {},
   "outputs": [
    {
     "name": "stdout",
     "output_type": "stream",
     "text": [
      "35\n"
     ]
    }
   ],
   "source": [
    "print(mainsec[\"seatsCapacity\"])"
   ]
  }
 ],
 "metadata": {
  "kernelspec": {
   "display_name": "Python 3 (ipykernel)",
   "language": "python",
   "name": "python3"
  },
  "language_info": {
   "codemirror_mode": {
    "name": "ipython",
    "version": 3
   },
   "file_extension": ".py",
   "mimetype": "text/x-python",
   "name": "python",
   "nbconvert_exporter": "python",
   "pygments_lexer": "ipython3",
   "version": "3.11.8"
  }
 },
 "nbformat": 4,
 "nbformat_minor": 5
}
